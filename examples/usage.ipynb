{
 "cells": [
  {
   "cell_type": "code",
   "execution_count": 1,
   "id": "361c5569",
   "metadata": {},
   "outputs": [
    {
     "name": "stdout",
     "output_type": "stream",
     "text": [
      "/Users/rubenbroekx/Documents/Projects/edbscan\n",
      "time: 1.23 ms (started: 2021-12-13 12:46:44 +01:00)\n"
     ]
    }
   ],
   "source": [
    "%load_ext autoreload\n",
    "%autoreload 2\n",
    "\n",
    "%load_ext autotime\n",
    "\n",
    "%cd .."
   ]
  },
  {
   "cell_type": "markdown",
   "id": "49ac3260",
   "metadata": {},
   "source": [
    "# Usage\n",
    "\n",
    "This notebook shows the basic usage of the EDBSCAN algorithm."
   ]
  },
  {
   "cell_type": "code",
   "execution_count": 2,
   "id": "4e64db85",
   "metadata": {},
   "outputs": [
    {
     "name": "stdout",
     "output_type": "stream",
     "text": [
      "time: 603 ms (started: 2021-12-13 12:46:44 +01:00)\n"
     ]
    }
   ],
   "source": [
    "import matplotlib.pyplot as plt\n",
    "import numpy as np\n",
    "\n",
    "from pathlib import Path\n",
    "from edbscan import EDBSCAN, edbscan, analyse_edbscan"
   ]
  },
  {
   "cell_type": "code",
   "execution_count": 3,
   "id": "eaf9862f",
   "metadata": {},
   "outputs": [
    {
     "name": "stdout",
     "output_type": "stream",
     "text": [
      "time: 637 µs (started: 2021-12-13 12:46:44 +01:00)\n"
     ]
    }
   ],
   "source": [
    "# Specify the color scheme\n",
    "COLORS = {\n",
    "    None: 'tab:blue',\n",
    "    -1: 'tab:blue',\n",
    "    0: 'tab:orange',\n",
    "    1: 'tab:green',\n",
    "    2: 'tab:red',\n",
    "    3: 'tab:purple',\n",
    "    4: 'tab:brown',\n",
    "    5: 'tab:pink',\n",
    "    6: 'tab:gray',\n",
    "    7: 'tab:olive',\n",
    "    8: 'tab:cyan',\n",
    "}"
   ]
  },
  {
   "cell_type": "code",
   "execution_count": 4,
   "id": "3539e2e2",
   "metadata": {},
   "outputs": [
    {
     "data": {
      "text/plain": [
       "array([None, None, None, None, None, None, None, None, None, None, None,\n",
       "       None, None, None, None, None, None, None, None, None, None, None,\n",
       "       None, None, None, None, None, -1, None, None, None, None, None,\n",
       "       None, None, None, None, None, None, None, None, None, None, None,\n",
       "       None, None, None, None, None, None, None, None, None, None, None,\n",
       "       None, None, None, None, None, None, None, None, None, None, None,\n",
       "       None, None, None, None, None, -1, None, None, None, None, None,\n",
       "       None, None, None, None, None, None, None, None, None, None, None,\n",
       "       None, None, None, None, None, None, None, None, None, None, None,\n",
       "       None, None, None, None, None, None, None, None, None, None, None,\n",
       "       None, None, None, 0, None, None, None, None, None, None, None,\n",
       "       None, None, None, None, None, 1, None, None, None, None, 2, None,\n",
       "       None, None, None, None, None, None, None, None, 3, None, None,\n",
       "       None, None, None, None, None, None, None, None, None, None, None,\n",
       "       None, None, None, None, None, None, None, None, None, None, None,\n",
       "       None, None, None, None, None, None, None, None, None, None, None,\n",
       "       None, None, None, None, 4, None, None, None, None, None, None,\n",
       "       None, None, None, 5, None, None, None, None, None, None, None,\n",
       "       None, None, 6, None, None, None, None, None, None, None, None,\n",
       "       None, None, None, None, None, None, None, None, None, None],\n",
       "      dtype=object)"
      ]
     },
     "execution_count": 4,
     "metadata": {},
     "output_type": "execute_result"
    },
    {
     "name": "stdout",
     "output_type": "stream",
     "text": [
      "time: 4.88 ms (started: 2021-12-13 12:46:44 +01:00)\n"
     ]
    }
   ],
   "source": [
    "# Load in the data\n",
    "with open(Path.cwd() / 'examples/data/default_X.npy', 'rb') as f:\n",
    "    data = np.load(f,allow_pickle=True)\n",
    "    \n",
    "with open(Path.cwd() / 'examples/data/default_y.npy', 'rb') as f:\n",
    "    y = np.load(f,allow_pickle=True)\n",
    "\n",
    "# Show the manually labeled samples\n",
    "y"
   ]
  },
  {
   "cell_type": "code",
   "execution_count": 5,
   "id": "8c956a3a",
   "metadata": {},
   "outputs": [
    {
     "data": {
      "image/png": "[encoded data removed]",
      "text/plain": [
       "<Figure size 576x576 with 1 Axes>"
      ]
     },
     "metadata": {
      "needs_background": "light"
     },
     "output_type": "display_data"
    },
    {
     "name": "stdout",
     "output_type": "stream",
     "text": [
      "time: 211 ms (started: 2021-12-13 12:46:44 +01:00)\n"
     ]
    }
   ],
   "source": [
    "# Visualise the raw data (including the manually put labels)\n",
    "plt.figure(figsize=(8,8))\n",
    "for label in [None,] + list(range(-1,7)):\n",
    "    plt.scatter(\n",
    "        data[y == label,0],\n",
    "        data[y == label,1],\n",
    "        label=label,\n",
    "        alpha=.2 if label == None else 1,\n",
    "        color=COLORS[label],\n",
    "    )\n",
    "plt.xlim(0,1)\n",
    "plt.ylim(0,1)\n",
    "plt.legend(loc='upper center', bbox_to_anchor=(0.5, 1.07),\n",
    "          ncol=8, fancybox=True, shadow=True)\n",
    "plt.show()"
   ]
  },
  {
   "cell_type": "code",
   "execution_count": 6,
   "id": "3cf9fb41",
   "metadata": {},
   "outputs": [
    {
     "data": {
      "text/plain": [
       "array([-1,  2,  2,  4, -1, -1,  6,  3,  4,  3,  6, -1, -1,  4, -1,  0,  1,\n",
       "       -1, -1, -1,  0,  0,  5,  4,  2,  5,  4, -1,  2, -1,  6,  3, -1, -1,\n",
       "       -1,  5,  0,  5,  1,  2, -1,  5, -1,  6,  0, -1,  3, -1, -1, -1,  5,\n",
       "        0, -1,  4,  0, -1,  6, -1,  5, -1, -1, -1,  1, -1, -1,  2,  4, -1,\n",
       "       -1,  6,  3, -1,  3,  3, -1,  6,  6, -1, -1, -1, -1, -1,  4,  1, -1,\n",
       "        0, -1,  4, -1,  0,  4,  3,  0,  6,  6,  5,  5,  2,  5,  5,  0,  0,\n",
       "        0,  0,  0,  0,  0,  0,  0,  0,  0,  0,  0,  0,  0,  0,  0,  0,  0,\n",
       "        0,  1,  1,  1,  1,  1,  1,  1,  1,  1,  1,  2,  2,  2,  2,  2,  2,\n",
       "        2,  2,  2,  2,  3,  3,  3,  3,  3,  3,  3,  3,  3,  3,  3,  3,  3,\n",
       "        3,  3,  3,  3,  3,  3,  3,  1,  1,  1,  1,  1,  1,  1,  1,  1,  1,\n",
       "        1,  1,  1,  1,  1,  1,  1,  1,  1,  1,  4,  4,  4,  4,  4,  4,  4,\n",
       "        4,  4,  4,  5,  5,  5,  5,  5,  5,  5,  5,  5,  5,  6,  6,  6,  6,\n",
       "        6,  6,  6,  6,  6,  6,  6,  6,  6,  6,  6,  6,  6,  6,  6,  6])"
      ]
     },
     "execution_count": 6,
     "metadata": {},
     "output_type": "execute_result"
    },
    {
     "name": "stdout",
     "output_type": "stream",
     "text": [
      "time: 5.96 ms (started: 2021-12-13 12:46:44 +01:00)\n"
     ]
    }
   ],
   "source": [
    "# EDBSCAN\n",
    "_, labels = edbscan(eps=.1, min_samples=5, X=data, y=y)\n",
    "labels"
   ]
  },
  {
   "cell_type": "code",
   "execution_count": 7,
   "id": "77bd593a",
   "metadata": {},
   "outputs": [
    {
     "data": {
      "image/png": "[encoded data removed]",
      "text/plain": [
       "<Figure size 576x576 with 1 Axes>"
      ]
     },
     "metadata": {
      "needs_background": "light"
     },
     "output_type": "display_data"
    },
    {
     "name": "stdout",
     "output_type": "stream",
     "text": [
      "time: 202 ms (started: 2021-12-13 12:46:44 +01:00)\n"
     ]
    }
   ],
   "source": [
    "# Visualise the result\n",
    "plt.figure(figsize=(8,8))\n",
    "for cluster in sorted(set(labels)):\n",
    "    plt.scatter(\n",
    "        data[labels == cluster,0], \n",
    "        data[labels == cluster,1], \n",
    "        label=cluster,\n",
    "        alpha=0.3 if cluster == -1 else 1,\n",
    "        color=COLORS[cluster],\n",
    "    )\n",
    "plt.xlim(0,1)\n",
    "plt.ylim(0,1)\n",
    "plt.legend(loc='upper center', bbox_to_anchor=(0.5, 1.07),\n",
    "          ncol=len(set(labels)), fancybox=True, shadow=True)\n",
    "plt.show()"
   ]
  },
  {
   "cell_type": "code",
   "execution_count": 8,
   "id": "a089dc15",
   "metadata": {},
   "outputs": [
    {
     "name": "stdout",
     "output_type": "stream",
     "text": [
      "time: 5.53 ms (started: 2021-12-13 12:46:45 +01:00)\n"
     ]
    }
   ],
   "source": [
    "# You can analyse the final result by running: analyse_edbscan\n",
    "result = analyse_edbscan(\n",
    "    X=data,\n",
    "    y=y,\n",
    "    eps=.1,\n",
    "    min_samples=5,\n",
    ")"
   ]
  },
  {
   "cell_type": "code",
   "execution_count": 9,
   "id": "c6b5fb85",
   "metadata": {},
   "outputs": [
    {
     "name": "stdout",
     "output_type": "stream",
     "text": [
      "noise_ratio: 0.18181818181818182\n",
      "core_point_ratio: 0.759090909090909\n",
      "number_of_clusters:\n",
      " - provided: 7 ([0, 1, 2, 3, 4, 5, 6])\n",
      " - found: 7 ([0, 1, 2, 3, 4, 5, 6])\n",
      " - added: 0 ([])\n",
      "cluster_nn:\n",
      " - 0: min=2, avg=15.37, max=22\n",
      " - 1: min=3, avg=25.62, max=32\n",
      " - 2: min=2, avg=9.65, max=13\n",
      " - 3: min=2, avg=17.36, max=22\n",
      " - 4: min=3, avg=11.65, max=15\n",
      " - 5: min=3, avg=10.90, max=16\n",
      " - 6: min=1, avg=14.23, max=21\n",
      "cluster_dist:\n",
      " - 0: min=0.00422, avg=0.11355, max=0.35113\n",
      " - 1: min=0.00580, avg=0.06927, max=0.21877\n",
      " - 2: min=0.00990, avg=0.09889, max=0.33339\n",
      " - 3: min=0.00540, avg=0.09721, max=0.31256\n",
      " - 4: min=0.00639, avg=0.09594, max=0.24987\n",
      " - 5: min=0.01176, avg=0.10397, max=0.27512\n",
      " - 6: min=0.00334, avg=0.11790, max=0.41230\n",
      "time: 1.49 ms (started: 2021-12-13 12:46:45 +01:00)\n"
     ]
    }
   ],
   "source": [
    "# Print out the analysed result\n",
    "for k,v in result.items():\n",
    "    if k == 'number_of_clusters':\n",
    "        print(f\"{k}:\")\n",
    "        for kk,vv in v.items():\n",
    "            print(f\" - {kk}: {len(vv)} ({sorted(vv)})\")\n",
    "    elif k == 'cluster_nn':\n",
    "        print(f\"{k}:\")\n",
    "        for kk,vv in sorted(v.items()):\n",
    "            print(f\" - {kk}: min={vv[0]}, avg={vv[1]:.2f}, max={vv[2]}\")\n",
    "    elif k == 'cluster_dist':\n",
    "        print(f\"{k}:\")\n",
    "        for kk,vv in sorted(v.items()):\n",
    "            print(f\" - {kk}: min={vv[0]:.5f}, avg={vv[1]:.5f}, max={vv[2]:.5f}\")\n",
    "    else:\n",
    "        print(f\"{k}: {v}\")"
   ]
  }
 ],
 "metadata": {
  "hide_input": false,
  "kernelspec": {
   "display_name": "Python 3 (ipykernel)",
   "language": "python",
   "name": "python3"
  },
  "language_info": {
   "codemirror_mode": {
    "name": "ipython",
    "version": 3
   },
   "file_extension": ".py",
   "mimetype": "text/x-python",
   "name": "python",
   "nbconvert_exporter": "python",
   "pygments_lexer": "ipython3",
   "version": "3.8.12"
  }
 },
 "nbformat": 4,
 "nbformat_minor": 5
}
